{
 "cells": [
  {
   "cell_type": "code",
   "execution_count": 2,
   "metadata": {},
   "outputs": [
    {
     "name": "stdout",
     "output_type": "stream",
     "text": [
      "Applied transform for training: \n",
      "Compose(\n",
      "      Resize(size=(128, 128), interpolation=bilinear, max_size=None, antialias=True)\n",
      "      Lambda()\n",
      ")\n",
      "Applied transform for validating: \n",
      "Compose(\n",
      "      Resize(size=(128, 128), interpolation=bilinear, max_size=None, antialias=True)\n",
      "      Lambda()\n",
      ")\n"
     ]
    }
   ],
   "source": [
    "import torch\n",
    "\n",
    "from hyper_kvasir.dataset import HyperKvasirDataModule\n",
    "\n",
    "# inii the dataset and the dataloader\n",
    "dm = HyperKvasirDataModule(\n",
    "    # provide dataset config\n",
    "    img_size=128,\n",
    "    batch_size=32\n",
    ")"
   ]
  },
  {
   "cell_type": "code",
   "execution_count": 3,
   "metadata": {},
   "outputs": [],
   "source": [
    "from effnetv2s.model import model_init_func, model_fine_tune_func\n",
    "\n",
    "model_before_fine_tune = model_init_func()\n",
    "model_after_fine_tune = model_fine_tune_func(\n",
    "    model_before_fine_tune, dm.num_classes)"
   ]
  },
  {
   "cell_type": "code",
   "execution_count": 5,
   "metadata": {},
   "outputs": [
    {
     "name": "stderr",
     "output_type": "stream",
     "text": [
      "Using 16bit Automatic Mixed Precision (AMP)\n",
      "/Users/yinnnyou/anaconda3/envs/mlflow/lib/python3.11/site-packages/torch/cuda/amp/grad_scaler.py:125: UserWarning: torch.cuda.amp.GradScaler is enabled, but CUDA is not available.  Disabling.\n",
      "  warnings.warn(\n",
      "GPU available: True (mps), used: True\n",
      "TPU available: False, using: 0 TPU cores\n",
      "IPU available: False, using: 0 IPUs\n",
      "HPU available: False, using: 0 HPUs\n"
     ]
    }
   ],
   "source": [
    "import lightning as L\n",
    "\n",
    "trainer = L.Trainer(\n",
    "    precision='16-mixed',\n",
    "    max_epochs=1\n",
    ")"
   ]
  },
  {
   "cell_type": "code",
   "execution_count": null,
   "metadata": {},
   "outputs": [],
   "source": [
    "trainer.fit(model_after_fine_tune, dm)"
   ]
  }
 ],
 "metadata": {
  "kernelspec": {
   "display_name": "mlflow",
   "language": "python",
   "name": "python3"
  },
  "language_info": {
   "codemirror_mode": {
    "name": "ipython",
    "version": 3
   },
   "file_extension": ".py",
   "mimetype": "text/x-python",
   "name": "python",
   "nbconvert_exporter": "python",
   "pygments_lexer": "ipython3",
   "version": "3.11.4"
  }
 },
 "nbformat": 4,
 "nbformat_minor": 2
}
